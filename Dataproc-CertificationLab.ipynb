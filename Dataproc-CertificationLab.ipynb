{
    "metadata": {
        "kernelspec": {
            "name": "SQL",
            "display_name": "SQL",
            "language": "sql"
        },
        "language_info": {
            "name": "sql",
            "version": ""
        }
    },
    "nbformat_minor": 2,
    "nbformat": 4,
    "cells": [
        {
            "cell_type": "markdown",
            "source": [
                "# Dataproc Certification Lab"
            ],
            "metadata": {
                "azdata_cell_guid": "f3750419-79d6-4398-b9f4-eb5dfc0d2210"
            }
        },
        {
            "cell_type": "markdown",
            "source": [
                "0. **Set some variables**\r\n",
                "\r\n",
                ">PROJECT=qwiklabs-gcp-2a2d068187855e41 \\n",
                "REGION=global \\n",
                "ZONE=us-west1-a \\n",
                "CLUSTER_NAME=mjtelco \\\r\n",
                "BUCKET_NAME=qwiklabs-gcp-2a2d068187855e41 \\\r\n",
                "MASTER_NODE=mjtelco-m \\\r\n",
                "BUCKET_NAME_JOB=mjtelco \\\r\n",
                "MASTER_MACHINE_TYPE=n1-standard-4 \\\r\n",
                "WORKER_MACHINE_TYPE=n1-standard-1 \\\r\n",
                "NETWORK=default\n",
                "FIREWALL_RULE_NAME=allow-mjtelco-access\r\n",
                "\r\n",
                ">gcloud config set project ${PROJECT} \\\r\n",
                ">gcloud config set dataproc/region ${REGION} \\n",
                ">FILE=gs://cloud-training/preppde/benchmark.py \\n",
                ">APP=gs://qwiklabs-gcp-2a2d068187855e41/benchmark.py\r\n",
                ""
            ],
            "metadata": {
                "azdata_cell_guid": "15c90d19-7b7b-4457-a7d0-00a7f6c84a50"
            }
        },
        {
            "cell_type": "markdown",
            "source": [
                "1. **Create a bucket**\n",
                "\n",
                ">gsutil mb -p ${PROJECT} -l us-west1 -c standard -b on gs://${BUCKET_NAME}"
            ],
            "metadata": {
                "azdata_cell_guid": "2d478b6c-f1a4-4322-8263-ac9966a7d805"
            }
        },
        {
            "cell_type": "markdown",
            "source": [
                "2. **Create a dataproc cluster (Hadoop echosystem Python/Java/PySpark/Pig/Hive)**\r\n",
                "\r\n",
                ">gcloud dataproc clusters create ***${CLUSTER_NAME}*** \\\\\\\r\n",
                "--region ${REGION} --zone ${ZONE} --subnet default \\\\\\\r\n",
                "--master-machine-type ${MASTER_MACHINE_TYPE} --master-boot-disk-size 50 \\\\\\\r\n",
                "--num-workers 2 --worker-machine-type ${WORKER_MACHINE_TYPE} --worker-boot-disk-size 50 \\\\\\\r\n",
                "--bucket ${BUCKET_NAME} \\\\\\\r\n",
                "--master-machine-type ${MASTER_MACHINE_TYPE} --worker-machine-type ${WORKER_MACHINE_TYPE} \\\\\\\r\n",
                "--metadata 'PIP_PACKAGES=google-cloud-storage' \\\\\\\r\n",
                "--optional-components=JUPYTER,ANACONDA\r\n",
                "\r\n",
                "--metadata 'PIP_PACKAGES=google-cloud-storage' ***Python library for interact gs with*** \\\\\\\r\n",
                "--optional-components=JUPYTER,ANACONDA ***Extra lybraries Anaconda Python distrib and Jupyter***"
            ],
            "metadata": {
                "azdata_cell_guid": "04ef6d2c-b101-4e1a-942f-d40d37034ba7"
            }
        },
        {
            "cell_type": "markdown",
            "source": [
                "3. **Access Dataproc Cluster through the web**\r\n",
                "\r\n",
                "**Enabling firewall ingress from your IP (Hadoop:8088/HDFS:9870)**\r\n",
                "\r\n",
                ">gcloud compute --project=${PROJECT} firewall-rules create \\\\\\\r\n",
                "${FIREWALL_RULE_NAME} --direction=INGRESS --priority=1000 \\\\\\\r\n",
                "--network=${NETWORK} --action=ALLOW \\\\\\\r\n",
                "--rules=tcp:8088,tcp:9870,tcp:8080 --source-ranges=138.99.180.2/32"
            ],
            "metadata": {
                "azdata_cell_guid": "d4dafd4d-3cf1-4cef-bedb-19f85fce2c2d"
            }
        },
        {
            "cell_type": "markdown",
            "source": [
                "**Submit a Job**\r\n",
                "\r\n",
                ">gcloud dataproc jobs submit pyspark --cluster ${CLUSTER_NAME} \\\\\\\r\n",
                "    --properties=spark.jars.packages=JohnSnowLabs:spark-nlp:2.0.8 \\\\\\\r\n",
                "    --driver-log-levels root=FATAL \\\\\\\r\n",
                "    topic_model.py \\\\\\\r\n",
                "    -- ${BUCKET_NAME_JOB}"
            ],
            "metadata": {
                "azdata_cell_guid": "104f1d10-e9d3-45dc-892d-e33a2af933b6"
            }
        },
        {
            "cell_type": "markdown",
            "source": [
                "# Don't forget DELETE the Dataproc Cluster resources"
            ],
            "metadata": {
                "azdata_cell_guid": "ab41691a-0aeb-4a90-81ed-df1a8f89b292"
            }
        },
        {
            "cell_type": "markdown",
            "source": [
                "**Dataproc Cluster**\r\n",
                "\r\n",
                "gcloud dataproc clusters delete ${CLUSTER_NAME}\r\n",
                "\r\n",
                "**Bucket**\r\n",
                "\r\n",
                "gsutil rm -r gs://${BUCKET_NAME}\r\n",
                "\r\n",
                "**Firewall Rule**\r\n",
                "\r\n",
                "gcloud compute --project=${PROJECT} firewall-rules delete ${FIREWALL_RULE_NAME}"
            ],
            "metadata": {
                "azdata_cell_guid": "98c496db-3975-4b0a-b9a8-0e1408e946e4"
            }
        },
        {
            "cell_type": "markdown",
            "source": [
                "# Utility commands\r\n",
                "\r\n",
                "***List the gce***\r\n",
                "\r\n",
                ">gcloud compute instances list\r\n",
                "\r\n",
                "***List Dataprocs***\r\n",
                "\r\n",
                ">gcloud dataproc clusters list --region ${REGION}\r\n",
                "\r\n",
                "***List Firewall rules***\r\n",
                "\r\n",
                ">gsutil compute firewall-rules list\r\n",
                "\r\n",
                "***List Buckets***\r\n",
                "\r\n",
                ">gsutil ls\r\n",
                "\r\n",
                "***ssh to a master node***\r\n",
                "\r\n",
                ">gcloud compute ssh ${MASTER_NODE}\r\n",
                "\r\n",
                "\r\n",
                "***Add Dataproc node***\r\n",
                "\r\n",
                ">gcloud dataproc clusters update ${CLUSTER_NAME} --num-workers 5"
            ],
            "metadata": {
                "azdata_cell_guid": "4faf0bb4-0e33-4371-a205-2500faf04f97"
            }
        }
    ]
}