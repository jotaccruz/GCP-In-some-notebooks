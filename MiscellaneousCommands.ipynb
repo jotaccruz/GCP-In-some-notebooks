{
    "metadata": {
        "kernelspec": {
            "name": "SQL",
            "display_name": "SQL",
            "language": "sql"
        },
        "language_info": {
            "name": "sql",
            "version": ""
        }
    },
    "nbformat_minor": 2,
    "nbformat": 4,
    "cells": [
        {
            "cell_type": "markdown",
            "source": [
                "# GCP Miscellaneous commands"
            ],
            "metadata": {
                "azdata_cell_guid": "fd02beca-2b5c-433b-83e5-b089aba9993d"
            }
        },
        {
            "cell_type": "markdown",
            "source": [
                "**To list all the acounts** \\\n",
                "gcloud iam service-accounts list\n",
                "\n",
                "**Service Account giving it permissions** \\\n",
                "gcloud projects add-iam-policy-binding <my project id> --member=serviceAccount:<service account email> --role=roles/owner\n",
                "\n",
                "**Create an image of a VM** \\\n",
                "gcloud compute instances stop build-instance --zone=us-west1-b"
            ],
            "metadata": {
                "azdata_cell_guid": "01f41d66-3e1c-4482-b4f5-fa635ed688b2"
            }
        }
    ]
}