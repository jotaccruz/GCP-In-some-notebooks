{
    "metadata": {
        "kernelspec": {
            "name": "SQL",
            "display_name": "SQL",
            "language": "sql"
        },
        "language_info": {
            "name": "sql",
            "version": ""
        }
    },
    "nbformat_minor": 2,
    "nbformat": 4,
    "cells": [
        {
            "cell_type": "markdown",
            "source": [
                "# BigQuery's commands for beginners"
            ],
            "metadata": {
                "azdata_cell_guid": "62dc15c5-8e6a-45a4-9bcd-6a37503ed0db"
            }
        },
        {
            "cell_type": "markdown",
            "source": [
                "**Build a dataset**\r\n",
                "\r\n",
                ">bq --location=US mk -d \\\r\n",
                "--default_table_expiration 3600 \\\r\n",
                "--description \"This is my dataset.\" \\\r\n",
                "JasmineJasper\r\n",
                "\r\n",
                "**Delete a dataset**\n",
                "\n",
                ">bq rm -r -d JasmineJasper\r\n",
                "\n",
                "**See the dataset list**\n",
                "\r\n",
                ">bq ls --format=pretty\r\n",
                "\r\n",
                "**Load into a dataset data from CSV format creating the table at the same time**\n",
                "\n",
                ">bq load \\\r\n",
                "--source_format=CSV \\\r\n",
                "JasmineJasper.triplog \\\r\n",
                "gs://cloud-training/preppde/2018-JasperJasmineMines.csv \\\r\n",
                "date:INTEGER,origin:STRING,destination:STRING,airline:STRING,miles:FLOAT,minutes:INTEGER,duration:STRING\r\n",
                "\r\n",
                "**Append data into a dataset from CSV format using a table already created**\n",
                "\r\n",
                ">bq load \\\r\n",
                "    --noreplace \\\r\n",
                "    --source_format=CSV \\\r\n",
                "    JasmineJasper.triplog \\\r\n",
                "    gs://cloud-training/preppde/2018-JasperJasmineMines.csv \\\r\n",
                "\tdate:INTEGER,origin:STRING,destination:STRING,airline:STRING,miles:FLOAT,minutes:INTEGER,duration:STRING\r\n",
                "\n",
                "**Describe a dataset**\n",
                ">bq ls --format=pretty JasmineJasper\r\n",
                "\n",
                "**Describe a dataset table**\n",
                ">bq show --format=pretty JasmineJasper.triplog\r\n",
                "\n",
                "**Submmit a SQL query**\r\n",
                ">bq query \\\r\n",
                "--use_legacy_sql=false \\\r\n",
                "'SELECT \r\n",
                "date,origin,destination,airline,miles,minutes,duration \r\n",
                "FROM \r\n",
                "`qwiklabs-gcp-b31c894253e3730f.JasmineJasper.triplog`'\r\n",
                "\r\n",
                ">bq query \\\r\n",
                "--use_legacy_sql=false \\\r\n",
                "'SELECT \r\n",
                "airline Airline,AVG(minutes) avg_trip_time\r\n",
                "FROM \r\n",
                "`qwiklabs-gcp-b31c894253e3730f.JasmineJasper.triplog`\r\n",
                "WHERE origin = \"FRA\"\r\n",
                "AND destination = \"KUL\"\r\n",
                "GROUP BY airline'\r\n",
                "\r\n",
                ">bq query \\\r\n",
                "--use_legacy_sql=false \\\r\n",
                "'SELECT \r\n",
                "airline Airline,AVG(minutes) avg_trip_time\r\n",
                "FROM \r\n",
                "`qwiklabs-gcp-b31c894253e3730f.JasmineJasper.triplog`\r\n",
                "WHERE origin = \"LHR\"\r\n",
                "AND destination = \"KUL\"\r\n",
                "GROUP BY airline\r\n",
                "ORDER BY avg_trip_time ASC'"
            ],
            "metadata": {
                "azdata_cell_guid": "7aae4518-d743-4a7a-bfb7-573a90f5ec7a"
            }
        }
    ]
}